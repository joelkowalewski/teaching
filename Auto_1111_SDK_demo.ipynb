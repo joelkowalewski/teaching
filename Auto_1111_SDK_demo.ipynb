{
  "cells": [
    {
      "cell_type": "markdown",
      "metadata": {
        "id": "view-in-github",
        "colab_type": "text"
      },
      "source": [
        "<a href=\"https://colab.research.google.com/github/joelkowalewski/teaching/blob/main/Auto_1111_SDK_demo.ipynb\" target=\"_parent\"><img src=\"https://colab.research.google.com/assets/colab-badge.svg\" alt=\"Open In Colab\"/></a>"
      ]
    },
    {
      "cell_type": "markdown",
      "metadata": {
        "id": "Eobx7Cy4zPkL"
      },
      "source": [
        "#Auto 1111 SDK\n",
        "Auto 1111 SDK is the first Python client for the Automatic 1111 Stable Diffusion Web UI. It allows you run the functionality of the Web UI but in a light-weight, modular, fast Python library, making it very easy to develop applications on it. Check it out at https://github.com/saketh12/Auto1111SDK\n",
        "\n",
        "We are not banned on free Colab because we are just a python library - we are not launching any Gradio app. We're aiming to make stable diffusion free and accessible for all!"
      ]
    },
    {
      "cell_type": "code",
      "execution_count": null,
      "metadata": {
        "id": "tawEV47xXMEd",
        "cellView": "form"
      },
      "outputs": [],
      "source": [
        "#@markdown ##**Install library**\n",
        "!pip install auto1111sdk"
      ]
    },
    {
      "cell_type": "code",
      "execution_count": null,
      "metadata": {
        "id": "1SmoY3z6z93i"
      },
      "outputs": [],
      "source": [
        "import os\n",
        "import sys\n",
        "from IPython.display import display\n",
        "import requests\n",
        "from io import BytesIO\n",
        "\n",
        "from auto1111sdk import civit_download, download_realesrgan, RealEsrganPipeline, StableDiffusionPipeline, EsrganPipeline\n",
        "from PIL import Image\n",
        "\n",
        "#@markdown ##**Civit Download:**\n",
        "civit_url = 'https://civitai.com/models/4384/dreamshaper' #@param{type: 'string'}\n",
        "model_path = 'dreamshaper.safetensors'\n",
        "\n",
        "civit_download(civit_url, model_path)"
      ]
    },
    {
      "cell_type": "code",
      "execution_count": null,
      "metadata": {
        "id": "qxn0bPy5XbwZ"
      },
      "outputs": [],
      "source": [
        "#@title ##**Text to Image**\n",
        "\n",
        "###################################Txt2Img##############################################\n",
        "pipe = StableDiffusionPipeline(model_path)\n",
        "prompt = \"closeup portrait photo of beautiful 26 y.o woman, makeup, 8k uhd, high quality, dramatic, cinematic\" #@param{type: 'string'}\n",
        "negative_prompt = \"(deformed iris, deformed pupils, semi-realistic, cgi, 3d, render, sketch, cartoon, drawing, anime), text, cropped, out of frame, worst quality, low quality, jpeg artifacts, ugly, duplicate, morbid, mutilated, extra fingers, mutated hands, poorly drawn hands, poorly drawn face, mutation, deformed, blurry, dehydrated, bad anatomy, bad proportions, extra limbs, cloned face, disfigured, gross proportions, malformed limbs, missing arms, missing legs, extra arms, extra legs, fused fingers, too many fingers, long neck\" #@param{type: 'string'}\n",
        "num_images = 1 #@param{type: 'number'}\n",
        "height = 768 #@param{type: 'number'}\n",
        "width = 512 #@param{type: 'number'}\n",
        "steps = 20 #@param{type: 'number'}\n",
        "output_path = \"txt2img.png\" #@param{type: 'string'}\n",
        "cfg_scale = 7.5 #@param{type: 'number'}\n",
        "seed = -1 #@param{type: 'number'}\n",
        "sampler_name ='Euler' #@param [\"Euler a\", \"Euler\", \"LMS\", \"Heun\", \"DPM2\", \"DPM2 a\", \"DPM++ 2S a\", \"DPM++ 2M\", \"DPM fast\", \"DPM adaptive\", \"LMS Karras\", \"DPM2 Karras\", \"DPM2 a Karras\", \"DPM++ 2S a Karras\", \"DPM++ 2M Karras\", \"DDIM\", \"PLMS\"]\n",
        "output = pipe.generate_txt2img(num_images = num_images,\n",
        "cfg_scale = cfg_scale, sampler_name = sampler_name, seed=seed, prompt = prompt, height = height, width = width, negative_prompt = negative_prompt, steps = steps)\n",
        "output[0].save(output_path)\n",
        "display(output[0])\n",
        "del pipe\n",
        "from modules import sd_samplers, images, shared, devices, processing, scripts\n",
        "import gc; gc.collect()\n",
        "devices.torch_gc()"
      ]
    },
    {
      "cell_type": "code",
      "execution_count": null,
      "metadata": {
        "id": "0Fk8oN786gdu"
      },
      "outputs": [],
      "source": [
        "#@title ##**Image to Image**\n",
        "\n",
        "###################################Img2Img##############################################\n",
        "\n",
        "pipe = StableDiffusionPipeline(model_path)\n",
        "prompt = \"closeup portrait photo of beautiful indian woman, 8k uhd, high quality, cinematic\" #@param{type: 'string'}\n",
        "negative_prompt = \"(deformed iris, deformed pupils, semi-realistic, cgi, 3d, render, sketch, cartoon, drawing, anime), text, cropped, out of frame, worst quality, low quality, jpeg artifacts, ugly, duplicate, morbid, mutilated, extra fingers, mutated hands, poorly drawn hands, poorly drawn face, mutation, deformed, blurry, dehydrated, bad anatomy, bad proportions, extra limbs, cloned face, disfigured, gross proportions, malformed limbs, missing arms, missing legs, extra arms, extra legs, fused fingers, too many fingers, long neck\" #@param{type: 'string'}\n",
        "num_images = 1 #@param{type: 'number'}\n",
        "height = 768 #@param{type: 'number'}\n",
        "width = 512 #@param{type: 'number'}\n",
        "steps = 20 #@param{type: 'number'}\n",
        "cfg_scale = 7.5 #@param{type: 'number'}\n",
        "seed = -1 #@param{type: 'number'}\n",
        "sampler_name ='Euler' #@param [\"Euler a\", \"Euler\", \"LMS\", \"Heun\", \"DPM2\", \"DPM2 a\", \"DPM++ 2S a\", \"DPM++ 2M\", \"DPM fast\", \"DPM adaptive\", \"LMS Karras\", \"DPM2 Karras\", \"DPM2 a Karras\", \"DPM++ 2S a Karras\", \"DPM++ 2M Karras\", \"DDIM\", \"PLMS\"]\n",
        "denoising_strength = 0.75 #@param{type: 'number'}\n",
        "output_path = \"img2img.png\" #@param{type: 'string'}\n",
        "init_image_path = \"txt2img.png\" #@param{type: 'string'}\n",
        "image = Image.open(init_image_path)\n",
        "output = pipe.generate_img2img(init_image=image, cfg_scale = cfg_scale, denoising_strength = denoising_strength,\n",
        " seed=seed, num_images = num_images, prompt=prompt,sampler_name = sampler_name, negative_prompt = negative_prompt, steps = steps, height = height, width = width)\n",
        "output[0].save(output_path)\n",
        "display(output[0])\n",
        "del pipe\n",
        "from modules import sd_samplers, images, shared, devices, processing, scripts\n",
        "import gc; gc.collect()\n",
        "devices.torch_gc()"
      ]
    },
    {
      "cell_type": "code",
      "execution_count": null,
      "metadata": {
        "id": "idlhGotnZFpP"
      },
      "outputs": [],
      "source": [
        "## Download model for inpainting/outpainting\n",
        "\n",
        "#@markdown ##**Civit Download for Inpainting model:**\n",
        "civit_inpaint_url = \"https://civitai.com/models/4384?modelVersionId=131004\" #@param{type: 'string'}\n",
        "model_inpaint_path = \"dreamshaper_8Inpainting.safetensors\"\n",
        "\n",
        "civit_download(civit_inpaint_url, model_inpaint_path)"
      ]
    },
    {
      "cell_type": "code",
      "execution_count": null,
      "metadata": {
        "id": "aK9ubVj-XqJC"
      },
      "outputs": [],
      "source": [
        "#@title ##**Outpainting:**\n",
        "\n",
        "image_url = \"https://flush-user-images.s3.us-east-2.amazonaws.com/photo.webp\" #@param{type: 'string'}\n",
        "response = requests.get(image_url)\n",
        "init_image = Image.open(BytesIO(response.content))\n",
        "\n",
        "####################################Outpainting#############################################\n",
        "\n",
        "pipe_inpainting = StableDiffusionPipeline(model_inpaint_path)\n",
        "\n",
        "prompt = \"closeup portrait photo of beautiful 26 y.o woman, makeup, 8k uhd, high quality, dramatic, cinematic\" #@param{type: 'string'}\n",
        "negative_prompt = \"(deformed iris, deformed pupils, semi-realistic, cgi, 3d, render, sketch, cartoon, drawing, anime), text, cropped, out of frame, worst quality, low quality, jpeg artifacts, ugly, duplicate, morbid, mutilated, extra fingers, mutated hands, poorly drawn hands, poorly drawn face, mutation, deformed, blurry, dehydrated, bad anatomy, bad proportions, extra limbs, cloned face, disfigured, gross proportions, malformed limbs, missing arms, missing legs, extra arms, extra legs, fused fingers, too many fingers, long neck\" #@param{type: 'string'}\n",
        "steps = 20 #@param{type: 'number'}\n",
        "cfg_scale = 7.5 #@param{type: 'number'}\n",
        "seed = -1 #@param{type: 'number'}\n",
        "pixels = 128 #@param{type: 'number'}\n",
        "mask_blur = 4 #@param{type: 'number'}\n",
        "sampler_name ='Euler' #@param [\"Euler a\", \"Euler\", \"LMS\", \"Heun\", \"DPM2\", \"DPM2 a\", \"DPM++ 2S a\", \"DPM++ 2M\", \"DPM fast\", \"DPM adaptive\", \"LMS Karras\", \"DPM2 Karras\", \"DPM2 a Karras\", \"DPM++ 2S a Karras\", \"DPM++ 2M Karras\", \"DDIM\", \"PLMS\"]\n",
        "output_path = \"outpainted.png\" #@param{type: 'string'}\n",
        "outpaint_left = True #@param{type: 'boolean'}\n",
        "outpaint_right = False #@param{type: 'boolean'}\n",
        "outpaint_up = False #@param{type: 'boolean'}\n",
        "outpaint_down = False #@param{type: 'boolean'}\n",
        "direction = []\n",
        "\n",
        "if outpaint_left:\n",
        "  direction.append(\"left\")\n",
        "if outpaint_right:\n",
        "  direction.append(\"right\")\n",
        "if outpaint_up:\n",
        "  direction.append(\"up\")\n",
        "if outpaint_down:\n",
        "  direction.append(\"down\")\n",
        "output = pipe_inpainting.poor_mans_outpainting_img2img(cfg_scale = cfg_scale, mask_blur = mask_blur, seed=seed, sampler_name = sampler_name, pixels=pixels, steps=steps, prompt = prompt, direction=direction, negative_prompt=negative_prompt, init_image = init_image)\n",
        "output[0].save(output_path)\n",
        "display(output[0])\n",
        "del pipe_inpainting\n",
        "from modules import sd_samplers, images, shared, devices, processing, scripts\n",
        "import gc; gc.collect()\n",
        "devices.torch_gc()"
      ]
    },
    {
      "cell_type": "code",
      "execution_count": null,
      "metadata": {
        "id": "Paj-t0BG6pxG"
      },
      "outputs": [],
      "source": [
        "#@title ##**Inpainting:**\n",
        "\n",
        "####################################Inpainting##############################################\n",
        "pipe_inpainting = StableDiffusionPipeline(model_inpaint_path)\n",
        "\n",
        "prompt = \"closeup portrait photo of beautiful 26 y.o woman, makeup, 8k uhd, high quality, dramatic, cinematic, ((green hair))\" #@param{type: 'string'}\n",
        "negative_prompt = \"(deformed iris, deformed pupils, semi-realistic, cgi, 3d, render, sketch, cartoon, drawing, anime), text, cropped, out of frame, worst quality, low quality, jpeg artifacts, ugly, duplicate, morbid, mutilated, extra fingers, mutated hands, poorly drawn hands, poorly drawn face, mutation, deformed, blurry, dehydrated, bad anatomy, bad proportions, extra limbs, cloned face, disfigured, gross proportions, malformed limbs, missing arms, missing legs, extra arms, extra legs, fused fingers, too many fingers, long neck\" #@param{type: 'string'}\n",
        "\n",
        "image_url = \"https://flush-user-images.s3.us-east-2.amazonaws.com/photo.webp\" #@param{type: 'string'}\n",
        "response = requests.get(image_url)\n",
        "init_image = Image.open(BytesIO(response.content))\n",
        "\n",
        "mask = \"https://flush-user-images.s3.us-east-2.amazonaws.com/mask.png\" #@param{type: 'string'}\n",
        "output_path = \"inpainted.png\" #@param{type: 'string'}\n",
        "\n",
        "response = requests.get(mask)\n",
        "mask = Image.open(BytesIO(response.content))\n",
        "\n",
        "num_images = 1 #@param{type: 'number'}\n",
        "inpaint_full_res_padding = 32 #@param{type: 'number'}\n",
        "\n",
        "cfg_scale = 7.5 #@param{type: 'number'}\n",
        "seed = -1 #@param{type: 'number'}\n",
        "sampler_name ='Euler' #@param [\"Euler a\", \"Euler\", \"LMS\", \"Heun\", \"DPM2\", \"DPM2 a\", \"DPM++ 2S a\", \"DPM++ 2M\", \"DPM fast\", \"DPM adaptive\", \"LMS Karras\", \"DPM2 Karras\", \"DPM2 a Karras\", \"DPM++ 2S a Karras\", \"DPM++ 2M Karras\", \"DDIM\", \"PLMS\"]\n",
        "denoising_strength = 0.75 #@param{type: 'number'}\n",
        "\n",
        "output = pipe_inpainting.inpainting_img2img(cfg_scale = cfg_scale, seed=seed, denoising_strength = denoising_strength, sampler_name = sampler_name, num_images = num_images, inpaint_full_res_padding=inpaint_full_res_padding, mask = mask, init_image = init_image, prompt = prompt, negative_prompt = negative_prompt)\n",
        "output[0].save(output_path)\n",
        "display(output[0])\n",
        "del pipe_inpainting\n",
        "from modules import sd_samplers, images, shared, devices, processing, scripts\n",
        "import gc; gc.collect()\n",
        "devices.torch_gc()"
      ]
    },
    {
      "cell_type": "code",
      "execution_count": null,
      "metadata": {
        "id": "uikFCkfaXhse"
      },
      "outputs": [],
      "source": [
        "#@title ##**Real Esrgan Download:**\n",
        "r_model_id = \"R-ESRGAN 4x+\" #@param{type: 'string'}\n",
        "r_model_path = \"upscaler.pth\"\n",
        "\n",
        "download_realesrgan(r_model_id, r_model_path)"
      ]
    },
    {
      "cell_type": "code",
      "execution_count": null,
      "metadata": {
        "colab": {
          "background_save": true
        },
        "id": "TjjeNs6WyVJ7"
      },
      "outputs": [],
      "source": [
        "#@markdown ####**Upscale with Real Esrgan:**\n",
        "upscaler = RealEsrganPipeline(r_model_id, r_model_path)\n",
        "\n",
        "image_url = \"https://flush-user-images.s3.us-east-2.amazonaws.com/photo.webp\" #@param{type: 'string'}\n",
        "response = requests.get(image_url)\n",
        "init_image = Image.open(BytesIO(response.content))\n",
        "\n",
        "scale = 4 #@param{type: 'number'}\n",
        "output_path = \"upscaled.png\" #@param{type: 'string'}\n",
        "\n",
        "output = upscaler.upscale(img=init_image, scale=scale)\n",
        "\n",
        "output.save(output_path)\n",
        "display(output)\n",
        "del upscaler\n",
        "from modules import sd_samplers, images, shared, devices, processing, scripts\n",
        "import gc; gc.collect()\n",
        "devices.torch_gc()"
      ]
    }
  ],
  "metadata": {
    "accelerator": "GPU",
    "colab": {
      "provenance": [],
      "include_colab_link": true
    },
    "kernelspec": {
      "display_name": "Python 3",
      "name": "python3"
    },
    "language_info": {
      "name": "python"
    }
  },
  "nbformat": 4,
  "nbformat_minor": 0
}