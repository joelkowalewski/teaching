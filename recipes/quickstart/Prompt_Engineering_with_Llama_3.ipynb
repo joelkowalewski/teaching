{
  "cells": [
    {
      "cell_type": "markdown",
      "metadata": {
        "id": "view-in-github",
        "colab_type": "text"
      },
      "source": [
        "<a href=\"https://colab.research.google.com/github/joelkowalewski/teaching/blob/main/recipes/quickstart/Prompt_Engineering_with_Llama_3.ipynb\" target=\"_parent\"><img src=\"https://colab.research.google.com/assets/colab-badge.svg\" alt=\"Open In Colab\"/></a>"
      ]
    },
    {
      "cell_type": "markdown",
      "metadata": {
        "id": "zNopIh-ANwS8"
      },
      "source": [
        "<a href=\"https://colab.research.google.com/github/meta-llama/llama-recipes/blob/main/recipes/quickstart/Prompt_Engineering_with_Llama_3.ipynb\" target=\"_parent\"><img src=\"https://colab.research.google.com/assets/colab-badge.svg\" alt=\"Open In Colab\"/></a>\n",
        "\n",
        "# Prompt Engineering with Llama 3\n",
        "\n",
        "Prompt engineering is using natural language to produce a desired response from a large language model (LLM).\n",
        "\n",
        "This interactive guide covers prompt engineering & best practices with Llama 3."
      ]
    },
    {
      "cell_type": "markdown",
      "metadata": {
        "id": "OBYX0jdTNwS_"
      },
      "source": [
        "## Introduction"
      ]
    },
    {
      "cell_type": "markdown",
      "metadata": {
        "id": "IOas8dZVNwTA"
      },
      "source": [
        "### Why now?\n",
        "\n",
        "[Vaswani et al. (2017)](https://arxiv.org/abs/1706.03762) introduced the world to transformer neural networks (originally for machine translation). Transformers ushered an era of generative AI with diffusion models for image creation and large language models (`LLMs`) as **programmable deep learning networks**.\n",
        "\n",
        "Programming foundational LLMs is done with natural language – it doesn't require training/tuning like ML models of the past. This has opened the door to a massive amount of innovation and a paradigm shift in how technology can be deployed. The science/art of using natural language to program language models to accomplish a task is referred to as **Prompt Engineering**."
      ]
    },
    {
      "cell_type": "markdown",
      "metadata": {
        "id": "txApf74XNwTA"
      },
      "source": [
        "### Llama Models\n",
        "\n",
        "In 2023, Meta introduced the [Llama language models](https://ai.meta.com/llama/) (Llama Chat, Code Llama, Llama Guard). These are general purpose, state-of-the-art LLMs.\n",
        "\n",
        "Llama models come in varying parameter sizes. The smaller models are cheaper to deploy and run; the larger models are more capable.\n",
        "\n",
        "#### Llama 3\n",
        "1. `llama-3-8b` - base pretrained 8 billion parameter model\n",
        "1. `llama-3-70b` - base pretrained 70 billion parameter model\n",
        "1. `llama-3-8b-instruct` - instruction fine-tuned 8 billion parameter model\n",
        "1. `llama-3-70b-instruct` - instruction fine-tuned 70 billion parameter model (flagship)\n",
        "\n",
        "#### Llama 2\n",
        "1. `llama-2-7b` - base pretrained 7 billion parameter model\n",
        "1. `llama-2-13b` - base pretrained 13 billion parameter model\n",
        "1. `llama-2-70b` - base pretrained 70 billion parameter model\n",
        "1. `llama-2-7b-chat` - chat fine-tuned 7 billion parameter model\n",
        "1. `llama-2-13b-chat` - chat fine-tuned 13 billion parameter model\n",
        "1. `llama-2-70b-chat` - chat fine-tuned 70 billion parameter model (flagship)\n"
      ]
    },
    {
      "cell_type": "markdown",
      "metadata": {
        "id": "oa2rC_F6NwTA"
      },
      "source": [
        "Code Llama is a code-focused LLM built on top of Llama 2 also available in various sizes and finetunes:"
      ]
    },
    {
      "cell_type": "markdown",
      "metadata": {
        "id": "1vbxenfhNwTB"
      },
      "source": [
        "#### Code Llama\n",
        "1. `codellama-7b` - code fine-tuned 7 billion parameter model\n",
        "1. `codellama-13b` - code fine-tuned 13 billion parameter model\n",
        "1. `codellama-34b` - code fine-tuned 34 billion parameter model\n",
        "1. `codellama-70b` - code fine-tuned 70 billion parameter model\n",
        "1. `codellama-7b-instruct` - code & instruct fine-tuned 7 billion parameter model\n",
        "2. `codellama-13b-instruct` - code & instruct fine-tuned 13 billion parameter model\n",
        "3. `codellama-34b-instruct` - code & instruct fine-tuned 34 billion parameter model\n",
        "3. `codellama-70b-instruct` - code & instruct fine-tuned 70 billion parameter model\n",
        "1. `codellama-7b-python` - Python fine-tuned 7 billion parameter model\n",
        "2. `codellama-13b-python` - Python fine-tuned 13 billion parameter model\n",
        "3. `codellama-34b-python` - Python fine-tuned 34 billion parameter model\n",
        "3. `codellama-70b-python` - Python fine-tuned 70 billion parameter model"
      ]
    },
    {
      "cell_type": "markdown",
      "metadata": {
        "id": "qiDS2CYVNwTB"
      },
      "source": [
        "## Getting an LLM\n",
        "\n",
        "Large language models are deployed and accessed in a variety of ways, including:\n",
        "\n",
        "1. **Self-hosting**: Using local hardware to run inference. Ex. running Llama on your Macbook Pro using [llama.cpp](https://github.com/ggerganov/llama.cpp).\n",
        "    * Best for privacy/security or if you already have a GPU.\n",
        "1. **Cloud hosting**: Using a cloud provider to deploy an instance that hosts a specific model. Ex. running Llama on cloud providers like AWS, Azure, GCP, and others.\n",
        "    * Best for customizing models and their runtime (ex. fine-tuning a model for your use case).\n",
        "1. **Hosted API**: Call LLMs directly via an API. There are many companies that provide Llama inference APIs including AWS Bedrock, Replicate, Anyscale, Together and others.\n",
        "    * Easiest option overall."
      ]
    },
    {
      "cell_type": "markdown",
      "metadata": {
        "id": "fFYze8SHNwTC"
      },
      "source": [
        "### Hosted APIs\n",
        "\n",
        "Hosted APIs are the easiest way to get started. We'll use them here. There are usually two main endpoints:\n",
        "\n",
        "1. **`completion`**: generate a response to a given prompt (a string).\n",
        "1. **`chat_completion`**: generate the next message in a list of messages, enabling more explicit instruction and context for use cases like chatbots."
      ]
    },
    {
      "cell_type": "markdown",
      "metadata": {
        "id": "ujxzXgdlNwTC"
      },
      "source": [
        "## Tokens\n",
        "\n",
        "LLMs process inputs and outputs in chunks called *tokens*. Think of these, roughly, as words – each model will have its own tokenization scheme. For example, this sentence...\n",
        "\n",
        "> Our destiny is written in the stars.\n",
        "\n",
        "...is tokenized into `[\"Our\", \" destiny\", \" is\", \" written\", \" in\", \" the\", \" stars\", \".\"]` for Llama 3. See [this](https://tiktokenizer.vercel.app/?model=meta-llama%2FMeta-Llama-3-8B) for an interactive tokenizer tool.\n",
        "\n",
        "Tokens matter most when you consider API pricing and internal behavior (ex. hyperparameters).\n",
        "\n",
        "Each model has a maximum context length that your prompt cannot exceed. That's 8K tokens for Llama 3, 4K for Llama 2, and 100K for Code Llama.\n"
      ]
    },
    {
      "cell_type": "markdown",
      "metadata": {
        "id": "K2vIZaRDNwTC"
      },
      "source": [
        "## Notebook Setup\n",
        "\n",
        "The following APIs will be used to call LLMs throughout the guide. As an example, we'll call Llama 3 chat using [Grok](https://console.groq.com/playground?model=llama3-70b-8192).\n",
        "\n",
        "To install prerequisites run:"
      ]
    },
    {
      "cell_type": "code",
      "execution_count": 1,
      "metadata": {
        "id": "UvraA1HYNwTD",
        "outputId": "b5a04bf6-f77e-4082-c9b3-a668d100b143",
        "colab": {
          "base_uri": "https://localhost:8080/"
        }
      },
      "outputs": [
        {
          "output_type": "stream",
          "name": "stdout",
          "text": [
            "Collecting groq\n",
            "  Downloading groq-0.9.0-py3-none-any.whl (103 kB)\n",
            "\u001b[2K     \u001b[90m━━━━━━━━━━━━━━━━━━━━━━━━━━━━━━━━━━━━━━━━\u001b[0m \u001b[32m103.5/103.5 kB\u001b[0m \u001b[31m2.9 MB/s\u001b[0m eta \u001b[36m0:00:00\u001b[0m\n",
            "\u001b[?25hRequirement already satisfied: anyio<5,>=3.5.0 in /usr/local/lib/python3.10/dist-packages (from groq) (3.7.1)\n",
            "Requirement already satisfied: distro<2,>=1.7.0 in /usr/lib/python3/dist-packages (from groq) (1.7.0)\n",
            "Collecting httpx<1,>=0.23.0 (from groq)\n",
            "  Downloading httpx-0.27.0-py3-none-any.whl (75 kB)\n",
            "\u001b[2K     \u001b[90m━━━━━━━━━━━━━━━━━━━━━━━━━━━━━━━━━━━━━━━━\u001b[0m \u001b[32m75.6/75.6 kB\u001b[0m \u001b[31m6.9 MB/s\u001b[0m eta \u001b[36m0:00:00\u001b[0m\n",
            "\u001b[?25hRequirement already satisfied: pydantic<3,>=1.9.0 in /usr/local/lib/python3.10/dist-packages (from groq) (2.8.2)\n",
            "Requirement already satisfied: sniffio in /usr/local/lib/python3.10/dist-packages (from groq) (1.3.1)\n",
            "Requirement already satisfied: typing-extensions<5,>=4.7 in /usr/local/lib/python3.10/dist-packages (from groq) (4.12.2)\n",
            "Requirement already satisfied: idna>=2.8 in /usr/local/lib/python3.10/dist-packages (from anyio<5,>=3.5.0->groq) (3.7)\n",
            "Requirement already satisfied: exceptiongroup in /usr/local/lib/python3.10/dist-packages (from anyio<5,>=3.5.0->groq) (1.2.2)\n",
            "Requirement already satisfied: certifi in /usr/local/lib/python3.10/dist-packages (from httpx<1,>=0.23.0->groq) (2024.7.4)\n",
            "Collecting httpcore==1.* (from httpx<1,>=0.23.0->groq)\n",
            "  Downloading httpcore-1.0.5-py3-none-any.whl (77 kB)\n",
            "\u001b[2K     \u001b[90m━━━━━━━━━━━━━━━━━━━━━━━━━━━━━━━━━━━━━━━━\u001b[0m \u001b[32m77.9/77.9 kB\u001b[0m \u001b[31m10.8 MB/s\u001b[0m eta \u001b[36m0:00:00\u001b[0m\n",
            "\u001b[?25hCollecting h11<0.15,>=0.13 (from httpcore==1.*->httpx<1,>=0.23.0->groq)\n",
            "  Downloading h11-0.14.0-py3-none-any.whl (58 kB)\n",
            "\u001b[2K     \u001b[90m━━━━━━━━━━━━━━━━━━━━━━━━━━━━━━━━━━━━━━━━\u001b[0m \u001b[32m58.3/58.3 kB\u001b[0m \u001b[31m6.6 MB/s\u001b[0m eta \u001b[36m0:00:00\u001b[0m\n",
            "\u001b[?25hRequirement already satisfied: annotated-types>=0.4.0 in /usr/local/lib/python3.10/dist-packages (from pydantic<3,>=1.9.0->groq) (0.7.0)\n",
            "Requirement already satisfied: pydantic-core==2.20.1 in /usr/local/lib/python3.10/dist-packages (from pydantic<3,>=1.9.0->groq) (2.20.1)\n",
            "Installing collected packages: h11, httpcore, httpx, groq\n",
            "Successfully installed groq-0.9.0 h11-0.14.0 httpcore-1.0.5 httpx-0.27.0\n"
          ]
        }
      ],
      "source": [
        "import sys\n",
        "!{sys.executable} -m pip install groq"
      ]
    },
    {
      "cell_type": "code",
      "execution_count": 4,
      "metadata": {
        "id": "sMG1ubogNwTE"
      },
      "outputs": [],
      "source": [
        "import os\n",
        "from typing import Dict, List\n",
        "from groq import Groq\n",
        "\n",
        "# Get a free API key from https://console.groq.com/keys\n",
        "os.environ[\"GROQ_API_KEY\"] = \"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\"\n",
        "\n",
        "LLAMA3_70B_INSTRUCT = \"llama3-70b-8192\"\n",
        "LLAMA3_8B_INSTRUCT = \"llama3-8b-8192\"\n",
        "\n",
        "DEFAULT_MODEL = LLAMA3_70B_INSTRUCT\n",
        "\n",
        "client = Groq()\n",
        "\n",
        "def assistant(content: str):\n",
        "    return { \"role\": \"assistant\", \"content\": content }\n",
        "\n",
        "def user(content: str):\n",
        "    return { \"role\": \"user\", \"content\": content }\n",
        "\n",
        "def chat_completion(\n",
        "    messages: List[Dict],\n",
        "    model = DEFAULT_MODEL,\n",
        "    temperature: float = 0.6,\n",
        "    top_p: float = 0.9,\n",
        ") -> str:\n",
        "    response = client.chat.completions.create(\n",
        "        messages=messages,\n",
        "        model=model,\n",
        "        temperature=temperature,\n",
        "        top_p=top_p,\n",
        "    )\n",
        "    return response.choices[0].message.content\n",
        "\n",
        "\n",
        "def completion(\n",
        "    prompt: str,\n",
        "    model: str = DEFAULT_MODEL,\n",
        "    temperature: float = 0.6,\n",
        "    top_p: float = 0.9,\n",
        ") -> str:\n",
        "    return chat_completion(\n",
        "        [user(prompt)],\n",
        "        model=model,\n",
        "        temperature=temperature,\n",
        "        top_p=top_p,\n",
        "    )\n",
        "\n",
        "def complete_and_print(prompt: str, model: str = DEFAULT_MODEL):\n",
        "    print(f'==============\\n{prompt}\\n==============')\n",
        "    response = completion(prompt, model)\n",
        "    print(response, end='\\n\\n')\n"
      ]
    },
    {
      "cell_type": "markdown",
      "metadata": {
        "id": "fmYJDKn3NwTE"
      },
      "source": [
        "### Completion APIs\n",
        "\n",
        "Let's try Llama 3!"
      ]
    },
    {
      "cell_type": "code",
      "execution_count": 5,
      "metadata": {
        "id": "07mn9ft_NwTE",
        "outputId": "55e7aa0a-272a-4089-bfb5-f3ec3acb6d7d",
        "colab": {
          "base_uri": "https://localhost:8080/"
        }
      },
      "outputs": [
        {
          "output_type": "stream",
          "name": "stdout",
          "text": [
            "==============\n",
            "The typical color of the sky is: \n",
            "==============\n",
            "The typical color of the sky is BLUE!\n",
            "\n"
          ]
        }
      ],
      "source": [
        "complete_and_print(\"The typical color of the sky is: \")"
      ]
    },
    {
      "cell_type": "code",
      "source": [
        "complete_and_print(\"What are the advanced LLM prompt engineering patterns that few know about, provide examples: \")"
      ],
      "metadata": {
        "id": "CJefSNtaOlU2",
        "outputId": "8d3e69dd-8844-4c8c-f5d1-019e1c141a3b",
        "colab": {
          "base_uri": "https://localhost:8080/"
        }
      },
      "execution_count": 9,
      "outputs": [
        {
          "output_type": "stream",
          "name": "stdout",
          "text": [
            "==============\n",
            "What are the advanced LLM prompt engineering patterns that few know about, provide examples: \n",
            "==============\n",
            "The art of prompt engineering! While many know the basics, there are indeed some advanced patterns that can unlock the full potential of Large Language Models (LLMs). Here are some lesser-known prompt engineering patterns, along with examples:\n",
            "\n",
            "1. **Chain of Thought**: Break down complex tasks into a series of simpler, connected prompts. This helps the model understand the context and relationships between ideas.\n",
            "\n",
            "Example:\n",
            "```\n",
            "Q1: What is the capital of France?\n",
            "Q2: What is the currency used in France?\n",
            "Q3: How many euros are in one US dollar?\n",
            "```\n",
            "The model will understand that the answers are related and provide more accurate responses.\n",
            "\n",
            "2. **Self-Referential Prompts**: Use the model's own responses as input for subsequent prompts. This creates a feedback loop that can refine the output.\n",
            "\n",
            "Example:\n",
            "```\n",
            "Q1: Write a short story about a character who discovers a hidden world.\n",
            "Q2: Take the last sentence of the previous response and use it as the first sentence of a new story.\n",
            "```\n",
            "This pattern can lead to interesting, iterative storytelling.\n",
            "\n",
            "3. **Adversarial Prompts**: Design prompts that intentionally challenge the model's biases or assumptions. This helps identify areas for improvement and can lead to more robust responses.\n",
            "\n",
            "Example:\n",
            "```\n",
            "Q1: Write a job description that is biased towards a particular gender.\n",
            "Q2: Identify the biases in the previous response and rewrite the job description to be more inclusive.\n",
            "```\n",
            "This pattern can help the model learn to recognize and mitigate biases.\n",
            "\n",
            "4. **Multi-Modal Prompts**: Combine different input formats, such as text, images, or audio, to elicit more comprehensive responses.\n",
            "\n",
            "Example:\n",
            "```\n",
            "Q1: Describe the image of a sunset (provide an image).\n",
            "Q2: Generate a poem about the sunset based on the description.\n",
            "```\n",
            "This pattern can help the model understand the relationships between different modalities.\n",
            "\n",
            "5. **Meta-Prompts**: Use prompts that ask the model to reflect on its own thought process or generate prompts for itself.\n",
            "\n",
            "Example:\n",
            "```\n",
            "Q1: What is the most challenging part of understanding human language?\n",
            "Q2: Generate a prompt that would help you better understand human language.\n",
            "```\n",
            "This pattern can lead to interesting insights into the model's thought process and even help improve its performance.\n",
            "\n",
            "6. **Counterfactual Prompts**: Ask the model to consider alternative scenarios or outcomes, which can help it develop more nuanced understanding of complex topics.\n",
            "\n",
            "Example:\n",
            "```\n",
            "Q1: What would have happened if the Roman Empire never fell?\n",
            "Q2: How would the world be different today if the Roman Empire still existed?\n",
            "```\n",
            "This pattern can help the model develop more sophisticated reasoning and hypothetical thinking.\n",
            "\n",
            "7. **Role-Reversal Prompts**: Ask the model to adopt different perspectives or roles, which can help it develop more empathy and understanding of diverse viewpoints.\n",
            "\n",
            "Example:\n",
            "```\n",
            "Q1: Write a response from the perspective of a climate change denier.\n",
            "Q2: Write a rebuttal to the previous response from the perspective of a climate scientist.\n",
            "```\n",
            "This pattern can help the model develop more nuanced understanding of complex issues and multiple perspectives.\n",
            "\n",
            "8. **Gradual Refinement Prompts**: Use a series of prompts that gradually refine the model's output, helping it to converge on a more accurate or relevant response.\n",
            "\n",
            "Example:\n",
            "```\n",
            "Q1: Write a short story about a character who learns a new skill.\n",
            "Q2: Refine the previous response to focus on a specific skill, such as playing the guitar.\n",
            "Q3: Refine the previous response to include a specific scenario, such as learning to play in a band.\n",
            "```\n",
            "This pattern can help the model develop more precise and relevant responses.\n",
            "\n",
            "9. **Context-Switching Prompts**: Ask the model to switch between different contexts, domains, or tasks, which can help it develop more flexibility and adaptability.\n",
            "\n",
            "Example:\n",
            "```\n",
            "Q1: Write a technical description of a new gadget.\n",
            "Q2: Write a marketing pitch for the same gadget.\n",
            "Q3: Write a review of the gadget from a customer's perspective.\n",
            "```\n",
            "This pattern can help the model develop more versatility and ability to adapt to different contexts.\n",
            "\n",
            "10. **Self-Evaluation Prompts**: Ask the model to evaluate its own performance or responses, which can help it develop more self-awareness and improve its output.\n",
            "\n",
            "Example:\n",
            "```\n",
            "Q1: Write a response to a question about AI ethics.\n",
            "Q2: Evaluate the quality and relevance of the previous response.\n",
            "Q3: Suggest improvements to the previous response.\n",
            "```\n",
            "This pattern can help the model develop more self-awareness and ability to reflect on its own performance.\n",
            "\n",
            "These advanced prompt engineering patterns can help you unlock the full potential of Large Language Models and achieve more sophisticated and accurate responses.\n",
            "\n"
          ]
        }
      ]
    },
    {
      "cell_type": "code",
      "execution_count": 6,
      "metadata": {
        "id": "bc3dm_hANwTE",
        "outputId": "08819437-5617-4306-f09e-2d65b6bd4036",
        "colab": {
          "base_uri": "https://localhost:8080/"
        }
      },
      "outputs": [
        {
          "output_type": "stream",
          "name": "stdout",
          "text": [
            "==============\n",
            "which model version are you?\n",
            "==============\n",
            "I'm an AI, and I'm a large language model, specifically a transformer model. My model version is based on the LLaMA architecture, which is a type of transformer model designed for conversational AI.\n",
            "\n",
            "My knowledge cutoff is 2022, and I was trained on a massive dataset of text from various sources, including books, articles, and websites. My training data includes a wide range of topics and styles, which enables me to understand and respond to a broad range of questions and prompts.\n",
            "\n",
            "I'm constantly learning and improving, so while I don't have a specific \"version number\" in the classical sense, I'm always evolving and refining my language understanding and generation capabilities.\n",
            "\n"
          ]
        }
      ],
      "source": [
        "complete_and_print(\"which model version are you?\")"
      ]
    },
    {
      "cell_type": "markdown",
      "metadata": {
        "id": "YPTNSJwWNwTE"
      },
      "source": [
        "### Chat Completion APIs\n",
        "Chat completion models provide additional structure to interacting with an LLM. An array of structured message objects is sent to the LLM instead of a single piece of text. This message list provides the LLM with some \"context\" or \"history\" from which to continue.\n",
        "\n",
        "Typically, each message contains `role` and `content`:\n",
        "* Messages with the `system` role are used to provide core instruction to the LLM by developers.\n",
        "* Messages with the `user` role are typically human-provided messages.\n",
        "* Messages with the `assistant` role are typically generated by the LLM."
      ]
    },
    {
      "cell_type": "code",
      "execution_count": null,
      "metadata": {
        "id": "6bupVcScNwTE"
      },
      "outputs": [],
      "source": [
        "response = chat_completion(messages=[\n",
        "    user(\"My favorite color is blue.\"),\n",
        "    assistant(\"That's great to hear!\"),\n",
        "    user(\"What is my favorite color?\"),\n",
        "])\n",
        "print(response)\n",
        "# \"Sure, I can help you with that! Your favorite color is blue.\""
      ]
    },
    {
      "cell_type": "markdown",
      "metadata": {
        "id": "81AeJ0FfNwTE"
      },
      "source": [
        "### LLM Hyperparameters\n",
        "\n",
        "#### `temperature` & `top_p`\n",
        "\n",
        "These APIs also take parameters which influence the creativity and determinism of your output.\n",
        "\n",
        "At each step, LLMs generate a list of most likely tokens and their respective probabilities. The least likely tokens are \"cut\" from the list (based on `top_p`), and then a token is randomly selected from the remaining candidates (`temperature`).\n",
        "\n",
        "In other words: `top_p` controls the breadth of vocabulary in a generation and `temperature` controls the randomness within that vocabulary. A temperature of ~0 produces *almost* deterministic results.\n",
        "\n",
        "[Read more about temperature setting here](https://community.openai.com/t/cheat-sheet-mastering-temperature-and-top-p-in-chatgpt-api-a-few-tips-and-tricks-on-controlling-the-creativity-deterministic-output-of-prompt-responses/172683).\n",
        "\n",
        "Let's try it out:"
      ]
    },
    {
      "cell_type": "code",
      "execution_count": null,
      "metadata": {
        "id": "QWBh9MYANwTF"
      },
      "outputs": [],
      "source": [
        "def print_tuned_completion(temperature: float, top_p: float):\n",
        "    response = completion(\"Write a haiku about llamas\", temperature=temperature, top_p=top_p)\n",
        "    print(f'[temperature: {temperature} | top_p: {top_p}]\\n{response.strip()}\\n')\n",
        "\n",
        "print_tuned_completion(0.01, 0.01)\n",
        "print_tuned_completion(0.01, 0.01)\n",
        "# These two generations are highly likely to be the same\n",
        "\n",
        "print_tuned_completion(1.0, 1.0)\n",
        "print_tuned_completion(1.0, 1.0)\n",
        "# These two generations are highly likely to be different"
      ]
    },
    {
      "cell_type": "markdown",
      "metadata": {
        "id": "SME24HFWNwTF"
      },
      "source": [
        "## Prompting Techniques"
      ]
    },
    {
      "cell_type": "markdown",
      "metadata": {
        "id": "7gB-BhwfNwTF"
      },
      "source": [
        "### Explicit Instructions\n",
        "\n",
        "Detailed, explicit instructions produce better results than open-ended prompts:"
      ]
    },
    {
      "cell_type": "code",
      "execution_count": null,
      "metadata": {
        "id": "1Nlj46DXNwTF"
      },
      "outputs": [],
      "source": [
        "complete_and_print(prompt=\"Describe quantum physics in one short sentence of no more than 12 words\")\n",
        "# Returns a succinct explanation of quantum physics that mentions particles and states existing simultaneously."
      ]
    },
    {
      "cell_type": "markdown",
      "metadata": {
        "id": "6UXWbzkENwTF"
      },
      "source": [
        "You can think about giving explicit instructions as using rules and restrictions to how Llama 3 responds to your prompt.\n",
        "\n",
        "- Stylization\n",
        "    - `Explain this to me like a topic on a children's educational network show teaching elementary students.`\n",
        "    - `I'm a software engineer using large language models for summarization. Summarize the following text in under 250 words:`\n",
        "    - `Give your answer like an old timey private investigator hunting down a case step by step.`\n",
        "- Formatting\n",
        "    - `Use bullet points.`\n",
        "    - `Return as a JSON object.`\n",
        "    - `Use less technical terms and help me apply it in my work in communications.`\n",
        "- Restrictions\n",
        "    - `Only use academic papers.`\n",
        "    - `Never give sources older than 2020.`\n",
        "    - `If you don't know the answer, say that you don't know.`\n",
        "\n",
        "Here's an example of giving explicit instructions to give more specific results by limiting the responses to recently created sources."
      ]
    },
    {
      "cell_type": "code",
      "execution_count": null,
      "metadata": {
        "id": "c1qJj2ODNwTF"
      },
      "outputs": [],
      "source": [
        "complete_and_print(\"Explain the latest advances in large language models to me.\")\n",
        "# More likely to cite sources from 2017\n",
        "\n",
        "complete_and_print(\"Explain the latest advances in large language models to me. Always cite your sources. Never cite sources older than 2020.\")\n",
        "# Gives more specific advances and only cites sources from 2020"
      ]
    },
    {
      "cell_type": "markdown",
      "metadata": {
        "id": "r6IyMaXFNwTF"
      },
      "source": [
        "### Example Prompting using Zero- and Few-Shot Learning\n",
        "\n",
        "A shot is an example or demonstration of what type of prompt and response you expect from a large language model. This term originates from training computer vision models on photographs, where one shot was one example or instance that the model used to classify an image ([Fei-Fei et al. (2006)](http://vision.stanford.edu/documents/Fei-FeiFergusPerona2006.pdf)).\n",
        "\n",
        "#### Zero-Shot Prompting\n",
        "\n",
        "Large language models like Llama 3 are unique because they are capable of following instructions and producing responses without having previously seen an example of a task. Prompting without examples is called \"zero-shot prompting\".\n",
        "\n",
        "Let's try using Llama 3 as a sentiment detector. You may notice that output format varies - we can improve this with better prompting."
      ]
    },
    {
      "cell_type": "code",
      "execution_count": null,
      "metadata": {
        "id": "SEsnaIs9NwTG"
      },
      "outputs": [],
      "source": [
        "complete_and_print(\"Text: This was the best movie I've ever seen! \\n The sentiment of the text is: \")\n",
        "# Returns positive sentiment\n",
        "\n",
        "complete_and_print(\"Text: The director was trying too hard. \\n The sentiment of the text is: \")\n",
        "# Returns negative sentiment"
      ]
    },
    {
      "cell_type": "markdown",
      "metadata": {
        "id": "qfjzB45fNwTG"
      },
      "source": [
        "\n",
        "#### Few-Shot Prompting\n",
        "\n",
        "Adding specific examples of your desired output generally results in more accurate, consistent output. This technique is called \"few-shot prompting\".\n",
        "\n",
        "In this example, the generated response follows our desired format that offers a more nuanced sentiment classifer that gives a positive, neutral, and negative response confidence percentage.\n",
        "\n",
        "See also: [Zhao et al. (2021)](https://arxiv.org/abs/2102.09690), [Liu et al. (2021)](https://arxiv.org/abs/2101.06804), [Su et al. (2022)](https://arxiv.org/abs/2209.01975), [Rubin et al. (2022)](https://arxiv.org/abs/2112.08633).\n",
        "\n"
      ]
    },
    {
      "cell_type": "code",
      "execution_count": null,
      "metadata": {
        "id": "ZOti0j1qNwTG"
      },
      "outputs": [],
      "source": [
        "def sentiment(text):\n",
        "    response = chat_completion(messages=[\n",
        "        user(\"You are a sentiment classifier. For each message, give the percentage of positive/netural/negative.\"),\n",
        "        user(\"I liked it\"),\n",
        "        assistant(\"70% positive 30% neutral 0% negative\"),\n",
        "        user(\"It could be better\"),\n",
        "        assistant(\"0% positive 50% neutral 50% negative\"),\n",
        "        user(\"It's fine\"),\n",
        "        assistant(\"25% positive 50% neutral 25% negative\"),\n",
        "        user(text),\n",
        "    ])\n",
        "    return response\n",
        "\n",
        "def print_sentiment(text):\n",
        "    print(f'INPUT: {text}')\n",
        "    print(sentiment(text))\n",
        "\n",
        "print_sentiment(\"I thought it was okay\")\n",
        "# More likely to return a balanced mix of positive, neutral, and negative\n",
        "print_sentiment(\"I loved it!\")\n",
        "# More likely to return 100% positive\n",
        "print_sentiment(\"Terrible service 0/10\")\n",
        "# More likely to return 100% negative"
      ]
    },
    {
      "cell_type": "markdown",
      "metadata": {
        "id": "Flzdryi5NwTG"
      },
      "source": [
        "### Role Prompting\n",
        "\n",
        "Llama will often give more consistent responses when given a role ([Kong et al. (2023)](https://browse.arxiv.org/pdf/2308.07702.pdf)). Roles give context to the LLM on what type of answers are desired.\n",
        "\n",
        "Let's use Llama 3 to create a more focused, technical response for a question around the pros and cons of using PyTorch."
      ]
    },
    {
      "cell_type": "code",
      "execution_count": null,
      "metadata": {
        "id": "3YIJHyxpNwTH"
      },
      "outputs": [],
      "source": [
        "complete_and_print(\"Explain the pros and cons of using PyTorch.\")\n",
        "# More likely to explain the pros and cons of PyTorch covers general areas like documentation, the PyTorch community, and mentions a steep learning curve\n",
        "\n",
        "complete_and_print(\"Your role is a machine learning expert who gives highly technical advice to senior engineers who work with complicated datasets. Explain the pros and cons of using PyTorch.\")\n",
        "# Often results in more technical benefits and drawbacks that provide more technical details on how model layers"
      ]
    },
    {
      "cell_type": "markdown",
      "metadata": {
        "id": "cBOI0D36NwTH"
      },
      "source": [
        "### Chain-of-Thought\n",
        "\n",
        "Simply adding a phrase encouraging step-by-step thinking \"significantly improves the ability of large language models to perform complex reasoning\" ([Wei et al. (2022)](https://arxiv.org/abs/2201.11903)). This technique is called \"CoT\" or \"Chain-of-Thought\" prompting.\n",
        "\n",
        "Llama 3 now reasons step-by-step naturally without the addition of the phrase. This section remains for completeness."
      ]
    },
    {
      "cell_type": "code",
      "execution_count": null,
      "metadata": {
        "id": "UurN1XcDNwTH"
      },
      "outputs": [],
      "source": [
        "prompt = \"Who lived longer, Mozart or Elvis?\"\n",
        "\n",
        "complete_and_print(prompt)\n",
        "# Llama 2 would often give the incorrect answer of \"Mozart\"\n",
        "\n",
        "complete_and_print(f\"{prompt} Let's think through this carefully, step by step.\")\n",
        "# Gives the correct answer \"Elvis\""
      ]
    },
    {
      "cell_type": "markdown",
      "metadata": {
        "id": "sq8b1NvTNwTH"
      },
      "source": [
        "### Self-Consistency\n",
        "\n",
        "LLMs are probablistic, so even with Chain-of-Thought, a single generation might produce incorrect results. Self-Consistency ([Wang et al. (2022)](https://arxiv.org/abs/2203.11171)) introduces enhanced accuracy by selecting the most frequent answer from multiple generations (at the cost of higher compute):"
      ]
    },
    {
      "cell_type": "code",
      "execution_count": null,
      "metadata": {
        "id": "EhzJTqrLNwTH"
      },
      "outputs": [],
      "source": [
        "import re\n",
        "from statistics import mode\n",
        "\n",
        "def gen_answer():\n",
        "    response = completion(\n",
        "        \"John found that the average of 15 numbers is 40.\"\n",
        "        \"If 10 is added to each number then the mean of the numbers is?\"\n",
        "        \"Report the answer surrounded by backticks (example: `123`)\",\n",
        "    )\n",
        "    match = re.search(r'`(\\d+)`', response)\n",
        "    if match is None:\n",
        "        return None\n",
        "    return match.group(1)\n",
        "\n",
        "answers = [gen_answer() for i in range(5)]\n",
        "\n",
        "print(\n",
        "    f\"Answers: {answers}\\n\",\n",
        "    f\"Final answer: {mode(answers)}\",\n",
        "    )\n",
        "\n",
        "# Sample runs of Llama-3-70B (all correct):\n",
        "# ['60', '50', '50', '50', '50'] -> 50\n",
        "# ['50', '50', '50', '60', '50'] -> 50\n",
        "# ['50', '50', '60', '50', '50'] -> 50"
      ]
    },
    {
      "cell_type": "markdown",
      "metadata": {
        "id": "MF4svpF3NwTH"
      },
      "source": [
        "### Retrieval-Augmented Generation\n",
        "\n",
        "You'll probably want to use factual knowledge in your application. You can extract common facts from today's large models out-of-the-box (i.e. using just the model weights):"
      ]
    },
    {
      "cell_type": "code",
      "execution_count": null,
      "metadata": {
        "id": "tFcohiQHNwTH"
      },
      "outputs": [],
      "source": [
        "complete_and_print(\"What is the capital of the California?\")\n",
        "# Gives the correct answer \"Sacramento\""
      ]
    },
    {
      "cell_type": "markdown",
      "metadata": {
        "id": "CqEC0JCWNwTH"
      },
      "source": [
        "However, more specific facts, or private information, cannot be reliably retrieved. The model will either declare it does not know or hallucinate an incorrect answer:"
      ]
    },
    {
      "cell_type": "code",
      "execution_count": null,
      "metadata": {
        "id": "yoDiEmtDNwTH"
      },
      "outputs": [],
      "source": [
        "complete_and_print(\"What was the temperature in Menlo Park on December 12th, 2023?\")\n",
        "# \"I'm just an AI, I don't have access to real-time weather data or historical weather records.\"\n",
        "\n",
        "complete_and_print(\"What time is my dinner reservation on Saturday and what should I wear?\")\n",
        "# \"I'm not able to access your personal information [..] I can provide some general guidance\""
      ]
    },
    {
      "cell_type": "markdown",
      "metadata": {
        "id": "cxViH1x2NwTI"
      },
      "source": [
        "Retrieval-Augmented Generation, or RAG, describes the practice of including information in the prompt you've retrived from an external database ([Lewis et al. (2020)](https://arxiv.org/abs/2005.11401v4)). It's an effective way to incorporate facts into your LLM application and is more affordable than fine-tuning which may be costly and negatively impact the foundational model's capabilities.\n",
        "\n",
        "This could be as simple as a lookup table or as sophisticated as a [vector database]([FAISS](https://github.com/facebookresearch/faiss)) containing all of your company's knowledge:"
      ]
    },
    {
      "cell_type": "code",
      "execution_count": null,
      "metadata": {
        "id": "_HINXoUHNwTL"
      },
      "outputs": [],
      "source": [
        "MENLO_PARK_TEMPS = {\n",
        "    \"2023-12-11\": \"52 degrees Fahrenheit\",\n",
        "    \"2023-12-12\": \"51 degrees Fahrenheit\",\n",
        "    \"2023-12-13\": \"51 degrees Fahrenheit\",\n",
        "}\n",
        "\n",
        "\n",
        "def prompt_with_rag(retrived_info, question):\n",
        "    complete_and_print(\n",
        "        f\"Given the following information: '{retrived_info}', respond to: '{question}'\"\n",
        "    )\n",
        "\n",
        "\n",
        "def ask_for_temperature(day):\n",
        "    temp_on_day = MENLO_PARK_TEMPS.get(day) or \"unknown temperature\"\n",
        "    prompt_with_rag(\n",
        "        f\"The temperature in Menlo Park was {temp_on_day} on {day}'\",  # Retrieved fact\n",
        "        f\"What is the temperature in Menlo Park on {day}?\",  # User question\n",
        "    )\n",
        "\n",
        "\n",
        "ask_for_temperature(\"2023-12-12\")\n",
        "# \"Sure! The temperature in Menlo Park on 2023-12-12 was 51 degrees Fahrenheit.\"\n",
        "\n",
        "ask_for_temperature(\"2023-07-18\")\n",
        "# \"I'm not able to provide the temperature in Menlo Park on 2023-07-18 as the information provided states that the temperature was unknown.\""
      ]
    },
    {
      "cell_type": "markdown",
      "metadata": {
        "id": "opVw0ifQNwTL"
      },
      "source": [
        "### Program-Aided Language Models\n",
        "\n",
        "LLMs, by nature, aren't great at performing calculations. Let's try:\n",
        "\n",
        "$$\n",
        "((-5 + 93 * 4 - 0) * (4^4 + -7 + 0 * 5))\n",
        "$$\n",
        "\n",
        "(The correct answer is 91383.)"
      ]
    },
    {
      "cell_type": "code",
      "execution_count": null,
      "metadata": {
        "id": "VhaNVAfvNwTL"
      },
      "outputs": [],
      "source": [
        "complete_and_print(\"\"\"\n",
        "Calculate the answer to the following math problem:\n",
        "\n",
        "((-5 + 93 * 4 - 0) * (4^4 + -7 + 0 * 5))\n",
        "\"\"\")\n",
        "# Gives incorrect answers like 92448, 92648, 95463"
      ]
    },
    {
      "cell_type": "markdown",
      "metadata": {
        "id": "71-A-rmsNwTL"
      },
      "source": [
        "[Gao et al. (2022)](https://arxiv.org/abs/2211.10435) introduced the concept of \"Program-aided Language Models\" (PAL). While LLMs are bad at arithmetic, they're great for code generation. PAL leverages this fact by instructing the LLM to write code to solve calculation tasks."
      ]
    },
    {
      "cell_type": "code",
      "execution_count": null,
      "metadata": {
        "id": "GXfneNJgNwTM"
      },
      "outputs": [],
      "source": [
        "complete_and_print(\n",
        "    \"\"\"\n",
        "    # Python code to calculate: ((-5 + 93 * 4 - 0) * (4^4 + -7 + 0 * 5))\n",
        "    \"\"\",\n",
        ")"
      ]
    },
    {
      "cell_type": "code",
      "execution_count": null,
      "metadata": {
        "id": "wbgtkHMpNwTM"
      },
      "outputs": [],
      "source": [
        "# The following code was generated by Llama 3 70B:\n",
        "\n",
        "result = ((-5 + 93 * 4 - 0) * (4**4 - 7 + 0 * 5))\n",
        "print(result)"
      ]
    },
    {
      "cell_type": "markdown",
      "metadata": {
        "id": "0TRlI2JkNwTM"
      },
      "source": [
        "### Limiting Extraneous Tokens\n",
        "\n",
        "A common struggle with Llama 2 is getting output without extraneous tokens (ex. \"Sure! Here's more information on...\"), even if explicit instructions are given to Llama 2 to be concise and no preamble. Llama 3 can better follow instructions.\n",
        "\n",
        "Check out this improvement that combines a role, rules and restrictions, explicit instructions, and an example:"
      ]
    },
    {
      "cell_type": "code",
      "execution_count": null,
      "metadata": {
        "id": "oPLnstW-NwTM"
      },
      "outputs": [],
      "source": [
        "complete_and_print(\n",
        "    \"Give me the zip code for Menlo Park in JSON format with the field 'zip_code'\",\n",
        ")\n",
        "# Likely returns the JSON and also \"Sure! Here's the JSON...\"\n",
        "\n",
        "complete_and_print(\n",
        "    \"\"\"\n",
        "    You are a robot that only outputs JSON.\n",
        "    You reply in JSON format with the field 'zip_code'.\n",
        "    Example question: What is the zip code of the Empire State Building? Example answer: {'zip_code': 10118}\n",
        "    Now here is my question: What is the zip code of Menlo Park?\n",
        "    \"\"\",\n",
        ")\n",
        "# \"{'zip_code': 94025}\""
      ]
    },
    {
      "cell_type": "markdown",
      "metadata": {
        "id": "SQVX_cTNNwTM"
      },
      "source": [
        "## Additional References\n",
        "- [PromptingGuide.ai](https://www.promptingguide.ai/)\n",
        "- [LearnPrompting.org](https://learnprompting.org/)\n",
        "- [Lil'Log Prompt Engineering Guide](https://lilianweng.github.io/posts/2023-03-15-prompt-engineering/)\n"
      ]
    },
    {
      "cell_type": "markdown",
      "metadata": {
        "id": "w81D04lNNwTM"
      },
      "source": [
        "## Author & Contact\n",
        "\n",
        "Edited by [Dalton Flanagan](https://www.linkedin.com/in/daltonflanagan/) (dalton@meta.com) with contributions from Mohsen Agsen, Bryce Bortree, Ricardo Juan Palma Duran, Kaolin Fire, Thomas Scialom."
      ]
    }
  ],
  "metadata": {
    "captumWidgetMessage": [],
    "dataExplorerConfig": [],
    "kernelspec": {
      "display_name": "Python 3",
      "name": "python3"
    },
    "language_info": {
      "codemirror_mode": {
        "name": "ipython",
        "version": 3
      },
      "file_extension": ".py",
      "mimetype": "text/x-python",
      "name": "python",
      "nbconvert_exporter": "python",
      "pygments_lexer": "ipython3",
      "version": "3.10.14"
    },
    "last_base_url": "https://bento.edge.x2p.facebook.net/",
    "last_kernel_id": "161e2a7b-2d2b-4995-87f3-d1539860ecac",
    "last_msg_id": "4eab1242-d815b886ebe4f5b1966da982_543",
    "last_server_session_id": "4a7b41c5-ed66-4dcb-a376-22673aebb469",
    "operator_data": [],
    "outputWidgetContext": [],
    "colab": {
      "provenance": [],
      "machine_shape": "hm",
      "gpuType": "L4",
      "include_colab_link": true
    },
    "accelerator": "GPU"
  },
  "nbformat": 4,
  "nbformat_minor": 0
}