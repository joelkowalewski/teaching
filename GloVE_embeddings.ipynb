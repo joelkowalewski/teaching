{
  "nbformat": 4,
  "nbformat_minor": 0,
  "metadata": {
    "colab": {
      "provenance": []
    },
    "kernelspec": {
      "name": "python3",
      "display_name": "Python 3"
    },
    "language_info": {
      "name": "python"
    }
  },
  "cells": [
    {
      "cell_type": "code",
      "execution_count": 1,
      "metadata": {
        "id": "xyJGjuYreNe2"
      },
      "outputs": [],
      "source": [
        "# UCLAx Machine Learning with Python\n",
        "# Working with GloVe Embeddings\n",
        "# Typically, embeddings are generated using neural networks and embedding layers. However,\n",
        "# GloVE embeddings remain a useful open source tool to explore relationships among words in large language databases\n",
        "# and creating features for NLP tasks that can be used with simpler machine learning algorithms.\n",
        "\n",
        "# Install required libraries\n",
        "#!pip install numpy matplotlib sklearn\n",
        "\n",
        "import numpy as np\n",
        "from sklearn.decomposition import PCA\n",
        "import matplotlib.pyplot as plt\n",
        "\n",
        "def load_glove_embeddings(path):\n",
        "    embeddings_dict = {}\n",
        "    with open(path, 'r', encoding=\"utf-8\") as f:\n",
        "        for line in f:\n",
        "            values = line.split()\n",
        "            word = values[0]\n",
        "            vector = np.asarray(values[1:], \"float32\")\n",
        "            embeddings_dict[word] = vector\n",
        "    return embeddings_dict\n",
        "\n",
        "def plot_analogy_with_pca(words, embeddings):\n",
        "    vectors = np.array([embeddings[word] for word in words])\n",
        "    # 2d for plotting\n",
        "    pca = PCA(n_components=2)\n",
        "    vectors_2d = pca.fit_transform(vectors)\n",
        "    fig, ax = plt.subplots()\n",
        "    ax.scatter(vectors_2d[:, 0], vectors_2d[:, 1])\n",
        "    for word, vector in zip(words, vectors_2d):\n",
        "        ax.annotate(word, (vector[0], vector[1]))\n",
        "    plt.show()\n",
        "\n",
        "# Load GloVe embeddings (adjust the path to your GloVe embeddings file)\n",
        "embeddings = load_glove_embeddings('/content/glove.6B.200d.txt')\n",
        "\n",
        "\n"
      ]
    },
    {
      "cell_type": "markdown",
      "source": [
        "# Visualizing Embeddings"
      ],
      "metadata": {
        "id": "pdT0plChnyJV"
      }
    },
    {
      "cell_type": "code",
      "source": [
        "# Example usage\n",
        "# recreating a classic visualization of embedding spaces. Wer can see\n",
        "# the relationship between man and woman and gendered words like king and queen (English)\n",
        "#\n",
        "words_to_plot = ['king', 'queen', 'man', 'woman']\n",
        "plot_analogy_with_pca(words_to_plot, embeddings)"
      ],
      "metadata": {
        "colab": {
          "base_uri": "https://localhost:8080/",
          "height": 430
        },
        "id": "hSYXXoVJnnu7",
        "outputId": "031e43d8-070f-4476-ae8d-68ad51584dc4"
      },
      "execution_count": 2,
      "outputs": [
        {
          "output_type": "display_data",
          "data": {
            "text/plain": [
              "<Figure size 640x480 with 1 Axes>"
            ],
            "image/png": "[encoded data removed]"
          },
          "metadata": {}
        }
      ]
    },
    {
      "cell_type": "markdown",
      "source": [
        "# Computing Ana;gies with GloVE Embeddings"
      ],
      "metadata": {
        "id": "noNaXZVuoTAV"
      }
    },
    {
      "cell_type": "markdown",
      "source": [
        "Check Data Integrity"
      ],
      "metadata": {
        "id": "Fk1g7moCn7Bv"
      }
    },
    {
      "cell_type": "code",
      "source": [
        "[e for e in embeddings.keys() if embeddings[e].shape[0] !=200] # to compute analogies the dimensions must be the same"
      ],
      "metadata": {
        "colab": {
          "base_uri": "https://localhost:8080/"
        },
        "id": "Eud6CBN6i52v",
        "outputId": "e946d420-6602-4d6f-9a98-5ebaeb30289c"
      },
      "execution_count": 3,
      "outputs": [
        {
          "output_type": "execute_result",
          "data": {
            "text/plain": [
              "[]"
            ]
          },
          "metadata": {},
          "execution_count": 3
        }
      ]
    },
    {
      "cell_type": "code",
      "source": [
        "del embeddings[\"lighten\"]"
      ],
      "metadata": {
        "id": "2JeWVvIxltxY"
      },
      "execution_count": 4,
      "outputs": []
    },
    {
      "cell_type": "code",
      "source": [
        "def find_closest_embeddings(embedding):\n",
        "    return sorted(embeddings.keys(), key=lambda word: np.linalg.norm(embeddings[word] - embedding))\n",
        "\n",
        "\n",
        "def analogy(word_a, word_b, word_c):\n",
        "    a, b, c = embeddings[word_a], embeddings[word_b], embeddings[word_c]\n",
        "    closest_words = find_closest_embeddings(b - a + c)\n",
        "\n",
        "    # Assuming the closest word (itself) is not a useful result\n",
        "    return [word for word in closest_words if word not in [word_a, word_b, word_c]][:5]\n",
        "\n",
        "# Many of the early ethics and bias concerns were raised when people began investigating these analogies\n",
        "# It began revealing biases that result from the representation of words in databases, learning to make associations based on\n",
        "# high co-occurence. In reality, these cases may not relfect our thinking as a society, nor is there any evidence to support a legitimate\n",
        "# relationship. Essentially, this was an opportunity to put society under the lens, exposing some inherent biases in our everyday language.\n",
        "\n",
        "\n",
        "# Example analogy: king is to man as queen is to?\n",
        "print(analogy('king', 'man', 'queen'))"
      ],
      "metadata": {
        "colab": {
          "base_uri": "https://localhost:8080/"
        },
        "id": "iIN6nkxhiOxg",
        "outputId": "ff055981-7548-4d2e-a8c7-07aa2a4a3575"
      },
      "execution_count": 5,
      "outputs": [
        {
          "output_type": "stream",
          "name": "stdout",
          "text": [
            "['woman', 'girl', 'teenager', 'she', 'mother']\n"
          ]
        }
      ]
    },
    {
      "cell_type": "code",
      "source": [
        "print(analogy('queen', 'woman', 'king'))"
      ],
      "metadata": {
        "colab": {
          "base_uri": "https://localhost:8080/"
        },
        "id": "Zp2oOdemiTWA",
        "outputId": "731c3589-cc14-4306-8e61-2774c6e86241"
      },
      "execution_count": 6,
      "outputs": [
        {
          "output_type": "stream",
          "name": "stdout",
          "text": [
            "['man', 'another', 'person', 'father', 'who']\n"
          ]
        }
      ]
    },
    {
      "cell_type": "code",
      "source": [
        "print(analogy('dog', 'mammal', 'lizard'))"
      ],
      "metadata": {
        "colab": {
          "base_uri": "https://localhost:8080/"
        },
        "id": "nRHg8sNUqDPW",
        "outputId": "cf8f69df-e765-4f29-91fb-b261074a09cf"
      },
      "execution_count": 7,
      "outputs": [
        {
          "output_type": "stream",
          "name": "stdout",
          "text": [
            "['reptile', 'reptiles', 'amphibians', 'lizards', 'mammals']\n"
          ]
        }
      ]
    },
    {
      "cell_type": "code",
      "source": [
        "print(analogy('shovel', 'gardening', 'pen'))"
      ],
      "metadata": {
        "colab": {
          "base_uri": "https://localhost:8080/"
        },
        "id": "ueklHdjqscTN",
        "outputId": "2e185a3b-f898-4cd7-ec18-3a87f986f6f8"
      },
      "execution_count": 8,
      "outputs": [
        {
          "output_type": "stream",
          "name": "stdout",
          "text": [
            "['writing', 'inspired', 'devoted', 'cookery', 'popular']\n"
          ]
        }
      ]
    }
  ]
}