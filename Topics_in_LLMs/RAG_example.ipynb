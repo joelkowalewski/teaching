{
  "nbformat": 4,
  "nbformat_minor": 0,
  "metadata": {
    "colab": {
      "provenance": []
    },
    "kernelspec": {
      "name": "python3",
      "display_name": "Python 3"
    },
    "language_info": {
      "name": "python"
    }
  },
  "cells": [
    {
      "cell_type": "code",
      "execution_count": 2,
      "metadata": {
        "colab": {
          "base_uri": "https://localhost:8080/"
        },
        "id": "aNpF5HdmytaE",
        "outputId": "30b1bacf-9f1c-4f00-a28f-fe4f0bae90bc"
      },
      "outputs": [
        {
          "output_type": "stream",
          "name": "stdout",
          "text": [
            "Collecting faiss-cpu\n",
            "  Downloading faiss_cpu-1.8.0-cp310-cp310-manylinux_2_17_x86_64.manylinux2014_x86_64.whl (27.0 MB)\n",
            "\u001b[2K     \u001b[90m━━━━━━━━━━━━━━━━━━━━━━━━━━━━━━━━━━━━━━━━\u001b[0m \u001b[32m27.0/27.0 MB\u001b[0m \u001b[31m28.2 MB/s\u001b[0m eta \u001b[36m0:00:00\u001b[0m\n",
            "\u001b[?25hRequirement already satisfied: numpy in /usr/local/lib/python3.10/dist-packages (from faiss-cpu) (1.25.2)\n",
            "Installing collected packages: faiss-cpu\n",
            "Successfully installed faiss-cpu-1.8.0\n"
          ]
        }
      ],
      "source": [
        "!pip install faiss-cpu"
      ]
    },
    {
      "cell_type": "code",
      "source": [
        "!pip install transformers"
      ],
      "metadata": {
        "colab": {
          "base_uri": "https://localhost:8080/"
        },
        "id": "dxev8cqdz9lz",
        "outputId": "b9163806-f95a-47b2-d90f-d6cc790d225e"
      },
      "execution_count": 3,
      "outputs": [
        {
          "output_type": "stream",
          "name": "stdout",
          "text": [
            "Requirement already satisfied: transformers in /usr/local/lib/python3.10/dist-packages (4.40.1)\n",
            "Requirement already satisfied: filelock in /usr/local/lib/python3.10/dist-packages (from transformers) (3.13.4)\n",
            "Requirement already satisfied: huggingface-hub<1.0,>=0.19.3 in /usr/local/lib/python3.10/dist-packages (from transformers) (0.20.3)\n",
            "Requirement already satisfied: numpy>=1.17 in /usr/local/lib/python3.10/dist-packages (from transformers) (1.25.2)\n",
            "Requirement already satisfied: packaging>=20.0 in /usr/local/lib/python3.10/dist-packages (from transformers) (24.0)\n",
            "Requirement already satisfied: pyyaml>=5.1 in /usr/local/lib/python3.10/dist-packages (from transformers) (6.0.1)\n",
            "Requirement already satisfied: regex!=2019.12.17 in /usr/local/lib/python3.10/dist-packages (from transformers) (2023.12.25)\n",
            "Requirement already satisfied: requests in /usr/local/lib/python3.10/dist-packages (from transformers) (2.31.0)\n",
            "Requirement already satisfied: tokenizers<0.20,>=0.19 in /usr/local/lib/python3.10/dist-packages (from transformers) (0.19.1)\n",
            "Requirement already satisfied: safetensors>=0.4.1 in /usr/local/lib/python3.10/dist-packages (from transformers) (0.4.3)\n",
            "Requirement already satisfied: tqdm>=4.27 in /usr/local/lib/python3.10/dist-packages (from transformers) (4.66.2)\n",
            "Requirement already satisfied: fsspec>=2023.5.0 in /usr/local/lib/python3.10/dist-packages (from huggingface-hub<1.0,>=0.19.3->transformers) (2023.6.0)\n",
            "Requirement already satisfied: typing-extensions>=3.7.4.3 in /usr/local/lib/python3.10/dist-packages (from huggingface-hub<1.0,>=0.19.3->transformers) (4.11.0)\n",
            "Requirement already satisfied: charset-normalizer<4,>=2 in /usr/local/lib/python3.10/dist-packages (from requests->transformers) (3.3.2)\n",
            "Requirement already satisfied: idna<4,>=2.5 in /usr/local/lib/python3.10/dist-packages (from requests->transformers) (3.7)\n",
            "Requirement already satisfied: urllib3<3,>=1.21.1 in /usr/local/lib/python3.10/dist-packages (from requests->transformers) (2.0.7)\n",
            "Requirement already satisfied: certifi>=2017.4.17 in /usr/local/lib/python3.10/dist-packages (from requests->transformers) (2024.2.2)\n"
          ]
        }
      ]
    },
    {
      "cell_type": "code",
      "source": [
        "def create_llm_prompt(system_prompt, rag_context, user_history, user_query):\n",
        "    # Format the user's chat history as a string\n",
        "    history_text = \"\\n\".join(f\"Chat {idx + 1}: {entry}\" for idx, entry in enumerate(user_history))\n",
        "\n",
        "    # Assemble the complete prompt using formatted strings\n",
        "    prompt = (f\"System Prompt: {system_prompt}\\n\\n\"\n",
        "              f\"RAG Retrieved Context: {rag_context}\\n\\n\"\n",
        "              f\"User Chat History:\\n{history_text}\\n\\n\"\n",
        "              f\"User's Current Query: {user_query}\\n\")\n",
        "\n",
        "    return prompt\n",
        "\n",
        "# Example usage\n",
        "system_prompt = \"Please assist the user with their medical questions.\"\n",
        "rag_context = \"Disease X is a rare genetic disorder characterized by the absence of symptom Y\"\n",
        "user_history = [\n",
        "    \"\"\"{\"role\": \"User\", \"message\": What is disease Z?\"},\n",
        "       {\"role\": \"Assistant\", \"message\": \"Disease Z is a rare genetic disorder that affects 1/1,000,000 people.\"}\n",
        "    \"\"\"\n",
        "]\n",
        "user_query = \"What is disease X?\"\n",
        "\n",
        "# Generate the LLM prompt\n",
        "prompt = create_llm_prompt(system_prompt, rag_context, user_history, user_query)\n",
        "print(prompt)\n"
      ],
      "metadata": {
        "colab": {
          "base_uri": "https://localhost:8080/"
        },
        "id": "-VVttQlCGvyG",
        "outputId": "acc7d96f-7e18-4ae3-b5d6-d4bb51aa69f1"
      },
      "execution_count": 15,
      "outputs": [
        {
          "output_type": "stream",
          "name": "stdout",
          "text": [
            "System Prompt: Please assist the user with their medical questions.\n",
            "\n",
            "RAG Retrieved Context: Disease X is a rare genetic disorder characterized by the absence of symptom Y\n",
            "\n",
            "User Chat History:\n",
            "Chat 1: {\"role\": \"User\", \"message\": What is disease Z?\"},\n",
            "       {\"role\": \"Assistant\", \"message\": \"Disease Z is a rare genetic disorder that affects 1/1,000,000 people.\"}\n",
            "    \n",
            "\n",
            "User's Current Query: What is disease X?\n",
            "\n"
          ]
        }
      ]
    },
    {
      "cell_type": "code",
      "source": [
        "import faiss\n",
        "import numpy as np\n",
        "from transformers import AutoTokenizer, AutoModel\n",
        "\n",
        "# Initialize tokenizer and model\n",
        "tokenizer = AutoTokenizer.from_pretrained('bert-base-uncased')\n",
        "model = AutoModel.from_pretrained('bert-base-uncased')\n",
        "\n",
        "# Create a toy document about \"Disease X\"\n",
        "documents = [\"Disease X is a rare genetic disorder characterized by the absence of symptom Y. It affects 1 in every 100,000 people.\",\n",
        "             \"The hippocampus is an area of the brain that is needed to form new memories.\" ]\n",
        "\n",
        "# Convert documents to embeddings\n",
        "embeddings = []\n",
        "for doc in documents:\n",
        "    inputs = tokenizer(doc, return_tensors=\"pt\", padding=True, truncation=True, max_length=512)\n",
        "    outputs = model(**inputs)\n",
        "    # Use mean pooling to get a single vector representation for each document\n",
        "    embeddings.append(outputs.last_hidden_state.mean(dim=1).detach().numpy())\n",
        "\n",
        "# Create a FAISS index\n",
        "dimension = embeddings[0].shape[1]  # Dimension of embeddings\n",
        "index = faiss.IndexFlatL2(dimension)  # Flat index using L2 distance\n",
        "# index = faiss.IndexFlatIP(dimension)  # This index computes the inner product\n",
        "\n",
        "\n",
        "# Add embeddings to index\n",
        "for emb in embeddings:\n",
        "    index.add(emb)"
      ],
      "metadata": {
        "id": "wRq50RWjyuoO"
      },
      "execution_count": 12,
      "outputs": []
    },
    {
      "cell_type": "code",
      "source": [
        "def retrieve_document(query):\n",
        "    # Tokenize and embed the query\n",
        "    query_inputs = tokenizer(query, return_tensors=\"pt\", padding=True, truncation=True, max_length=512)\n",
        "    query_outputs = model(**query_inputs)\n",
        "    query_embedding = query_outputs.last_hidden_state.mean(dim=1).detach().numpy()\n",
        "\n",
        "    # Search the FAISS index\n",
        "    D, I = index.search(query_embedding, k=1)  # Search for the top 1 nearest document\n",
        "    return documents[I[0][0]]\n",
        "\n",
        "# Example query about Disease X\n",
        "query = \"What is Disease X?\"\n",
        "retrieved_doc = retrieve_document(query)\n",
        "print(f\"Retrieved document: {retrieved_doc}\")"
      ],
      "metadata": {
        "colab": {
          "base_uri": "https://localhost:8080/"
        },
        "id": "F-lW3MISyuq4",
        "outputId": "ddf8a508-1342-4932-f88c-bb40df39ce17"
      },
      "execution_count": 13,
      "outputs": [
        {
          "output_type": "stream",
          "name": "stdout",
          "text": [
            "Retrieved document: Disease X is a rare genetic disorder characterized by the absence of symptom Y. It affects 1 in every 100,000 people.\n"
          ]
        }
      ]
    },
    {
      "cell_type": "code",
      "source": [
        "query = \"How are new memories formed in the brain?\"\n",
        "retrieved_doc = retrieve_document(query)\n",
        "print(f\"Retrieved document: {retrieved_doc}\")"
      ],
      "metadata": {
        "colab": {
          "base_uri": "https://localhost:8080/"
        },
        "id": "Um6eXM6E2RM0",
        "outputId": "fbec39ee-c2ed-476f-c21b-041c63405ff5"
      },
      "execution_count": 14,
      "outputs": [
        {
          "output_type": "stream",
          "name": "stdout",
          "text": [
            "Retrieved document: The hippocampus is an area of the brain that is needed to form new memories.\n"
          ]
        }
      ]
    }
  ]
}